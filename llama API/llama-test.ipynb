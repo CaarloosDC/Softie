{
 "cells": [
  {
   "cell_type": "markdown",
   "metadata": {},
   "source": [
    "# Importacion de dependencias"
   ]
  },
  {
   "cell_type": "code",
   "execution_count": 21,
   "metadata": {},
   "outputs": [],
   "source": [
    "import json\n",
    "from groq import Groq"
   ]
  },
  {
   "cell_type": "markdown",
   "metadata": {},
   "source": [
    "# Iniciar el SDK"
   ]
  },
  {
   "cell_type": "code",
   "execution_count": 22,
   "metadata": {},
   "outputs": [],
   "source": [
    "client = Groq(\n",
    "    api_key = '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',\n",
    ")"
   ]
  },
  {
   "cell_type": "markdown",
   "metadata": {},
   "source": [
    "# Construir un request"
   ]
  },
  {
   "cell_type": "code",
   "execution_count": 29,
   "metadata": {},
   "outputs": [],
   "source": [
    "chat_completion = client.chat.completions.create(\n",
    "    messages=[\n",
    "        {\n",
    "            \"role\": \"user\",\n",
    "            \"content\": \"write the most mind blowing joke\",\n",
    "        }\n",
    "    ],\n",
    "    model=\"llama3-8b-8192\",\n",
    ")"
   ]
  },
  {
   "cell_type": "markdown",
   "metadata": {},
   "source": [
    "# Ejecutar a la solicitud"
   ]
  },
  {
   "cell_type": "code",
   "execution_count": 33,
   "metadata": {},
   "outputs": [
    {
     "name": "stdout",
     "output_type": "stream",
     "text": [
      "Here's a joke that might just blow your mind:\n",
      "\n",
      "A man walked into a library and asked the librarian, \"Do you have any books on Pavlov's dogs and Schrödinger's cat?\"\n",
      "\n",
      "The librarian replied, \"It rings a bell, but I'm not sure if it's here or not.\"\n",
      "\n",
      "WAIT, WHAT?!\n",
      "\n",
      "This joke combines two complex concepts:\n",
      "\n",
      "1. Pavlov's dogs: Ivan Pavlov's famous experiment where he conditioned dogs to salivate when they heard a bell ring, associating the sound with food.\n",
      "2. Schrödinger's cat: Erwin Schrödinger's thought experiment where a cat is simultaneously alive AND dead, demonstrating the concept of quantum superposition.\n",
      "\n",
      "The punchline \"it rings a bell, but I'm not sure if it's here or not\" is a masterclass in wordplay and conceptual fusion:\n",
      "\n",
      "* \"It rings a bell\" references Pavlov's dogs, implying the librarian associates the book's title with the concept.\n",
      "* \"But I'm not sure if it's here or not\" nods to Schrödinger's cat, suggesting that the book's existence is in a state of superposition – it's both on the shelf and not on the shelf at the same time!\n",
      "\n",
      "This joke demands a moment (or several) to process the sheer awesomeness of combining these two mind-bending concepts. Are you still in shock?\n"
     ]
    }
   ],
   "source": [
    "print(chat_completion.choices[0].message.content)"
   ]
  }
 ],
 "metadata": {
  "kernelspec": {
   "display_name": "llama_API-8WOW4avQ",
   "language": "python",
   "name": "python3"
  },
  "language_info": {
   "codemirror_mode": {
    "name": "ipython",
    "version": 3
   },
   "file_extension": ".py",
   "mimetype": "text/x-python",
   "name": "python",
   "nbconvert_exporter": "python",
   "pygments_lexer": "ipython3",
   "version": "3.12.3"
  }
 },
 "nbformat": 4,
 "nbformat_minor": 2
}
